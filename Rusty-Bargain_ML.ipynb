{
 "cells": [
  {
   "cell_type": "markdown",
   "metadata": {},
   "source": [
    "# Introducción"
   ]
  },
  {
   "cell_type": "markdown",
   "metadata": {},
   "source": [
    "El servicio de venta de autos usados Rusty Bargain está desarrollando una aplicación para atraer nuevos clientes. Gracias a esa app, puedes averiguar rápidamente el valor de mercado de tu coche. Tenemos acceso al historial: especificaciones técnicas, versiones de equipamiento y precios. Tienes que crear un modelo que determine el valor de mercado."
   ]
  },
  {
   "cell_type": "markdown",
   "metadata": {},
   "source": [
    "# Objetivo"
   ]
  },
  {
   "cell_type": "markdown",
   "metadata": {},
   "source": [
    "Crear un modelo que determine el valor de mercado. A la empresa le interesa:\n",
    "\n",
    "-la calidad de la predicción;\n",
    "\n",
    "-la velocidad de la predicción;\n",
    "\n",
    "-el tiempo requerido para el entrenamiento\n",
    "\n",
    "Para realizar esta tarea será necesario entrenar distintos modelos. Se debe empezar por un modelo de regresión lineal que funja como pruba de cordura. La métrica que se utilizará como base de comparación será la raiz del error cuadrático medio (RECM). Los modelos a comparar serán Bosque aleatorio y modelo basado en el descenso del gradiente.\n",
    "\n",
    "Regresión Lineal.\n",
    "\n",
    "Bosque aleatorio.\n",
    "\n",
    "Modelo del descenso del gradiente con LightGBM"
   ]
  },
  {
   "cell_type": "markdown",
   "metadata": {},
   "source": [
    "# Descripción de los datos"
   ]
  },
  {
   "cell_type": "markdown",
   "metadata": {},
   "source": [
    "Características\n",
    "\n",
    "* DateCrawled — fecha en la que se descargó el perfil de la base de datos\n",
    "\n",
    "* VehicleType — tipo de carrocería del vehículo\n",
    "\n",
    "* RegistrationYear — año de matriculación del vehículo\n",
    "\n",
    "* Gearbox — tipo de caja de cambios\n",
    "\n",
    "* Power — potencia (CV)\n",
    "\n",
    "* Model — modelo del vehículo\n",
    "\n",
    "* Mileage — kilometraje (medido en km de acuerdo con las especificidades regionales del conjunto de datos)\n",
    "\n",
    "* RegistrationMonth — mes de matriculación del vehículo\n",
    "\n",
    "* FuelType — tipo de combustible\n",
    "\n",
    "* Brand — marca del vehículo\n",
    "\n",
    "* NotRepaired — vehículo con o sin reparación\n",
    "\n",
    "* DateCreated — fecha de creación del perfil\n",
    "\n",
    "* NumberOfPictures — número de fotos del vehículo\n",
    "\n",
    "* PostalCode — código postal del propietario del perfil (usuario)\n",
    "\n",
    "* LastSeen — fecha de la última vez que el usuario estuvo activo\n",
    "\n",
    "* Objetivo\n",
    "\n",
    "* Price — precio (en euros)"
   ]
  },
  {
   "cell_type": "markdown",
   "metadata": {},
   "source": [
    "# Preparación de datos"
   ]
  },
  {
   "cell_type": "code",
   "execution_count": 13,
   "metadata": {},
   "outputs": [],
   "source": [
    "import time\n",
    "import pandas as pd\n",
    "import numpy as np\n",
    "import seaborn as sns\n",
    "sns.set()\n",
    "import lightgbm as lgb\n",
    "\n",
    "from matplotlib import pyplot as plt\n",
    "from sklearn.model_selection import train_test_split\n",
    "from sklearn.preprocessing import StandardScaler\n",
    "from sklearn.model_selection import GridSearchCV\n",
    "from sklearn.metrics import mean_squared_error\n",
    "from sklearn.metrics import roc_auc_score\n",
    "from sklearn.linear_model import LinearRegression\n",
    "from sklearn.ensemble import RandomForestRegressor\n",
    "from catboost import CatBoostRegressor"
   ]
  },
  {
   "cell_type": "code",
   "execution_count": 14,
   "metadata": {},
   "outputs": [],
   "source": [
    "df= pd.read_csv('/datasets/car_data.csv')"
   ]
  },
  {
   "cell_type": "code",
   "execution_count": 15,
   "metadata": {},
   "outputs": [
    {
     "name": "stdout",
     "output_type": "stream",
     "text": [
      "<class 'pandas.core.frame.DataFrame'>\n",
      "RangeIndex: 354369 entries, 0 to 354368\n",
      "Data columns (total 16 columns):\n",
      " #   Column             Non-Null Count   Dtype \n",
      "---  ------             --------------   ----- \n",
      " 0   DateCrawled        354369 non-null  object\n",
      " 1   Price              354369 non-null  int64 \n",
      " 2   VehicleType        316879 non-null  object\n",
      " 3   RegistrationYear   354369 non-null  int64 \n",
      " 4   Gearbox            334536 non-null  object\n",
      " 5   Power              354369 non-null  int64 \n",
      " 6   Model              334664 non-null  object\n",
      " 7   Mileage            354369 non-null  int64 \n",
      " 8   RegistrationMonth  354369 non-null  int64 \n",
      " 9   FuelType           321474 non-null  object\n",
      " 10  Brand              354369 non-null  object\n",
      " 11  NotRepaired        283215 non-null  object\n",
      " 12  DateCreated        354369 non-null  object\n",
      " 13  NumberOfPictures   354369 non-null  int64 \n",
      " 14  PostalCode         354369 non-null  int64 \n",
      " 15  LastSeen           354369 non-null  object\n",
      "dtypes: int64(7), object(9)\n",
      "memory usage: 43.3+ MB\n"
     ]
    }
   ],
   "source": [
    "df.info()"
   ]
  },
  {
   "cell_type": "markdown",
   "metadata": {},
   "source": [
    "El DataFrame contiene 354,369 registros con 16 columnas relacionadas con características de vehículos de segunda mano, incluyendo atributos técnicos (potencia, tipo de combustible, kilometraje) y temporales (fecha de registro y última actividad). Aunque es rico en datos, presenta valores nulos en columnas clave como \"VehicleType\", \"FuelType\" y \"NotRepaired\", lo que requiere limpieza antes del modelado. Este dataset es adecuado para predecir el precio de mercado, pero será fundamental manejar adecuadamente las características categóricas y numéricas, así como normalizar y codificar según el modelo utilizado. Su estructura sugiere potencial para análisis robustos, pero también desafíos en el procesamiento de datos."
   ]
  },
  {
   "cell_type": "code",
   "execution_count": 16,
   "metadata": {},
   "outputs": [
    {
     "data": {
      "text/html": [
       "<div>\n",
       "<style scoped>\n",
       "    .dataframe tbody tr th:only-of-type {\n",
       "        vertical-align: middle;\n",
       "    }\n",
       "\n",
       "    .dataframe tbody tr th {\n",
       "        vertical-align: top;\n",
       "    }\n",
       "\n",
       "    .dataframe thead th {\n",
       "        text-align: right;\n",
       "    }\n",
       "</style>\n",
       "<table border=\"1\" class=\"dataframe\">\n",
       "  <thead>\n",
       "    <tr style=\"text-align: right;\">\n",
       "      <th></th>\n",
       "      <th>DateCrawled</th>\n",
       "      <th>Price</th>\n",
       "      <th>VehicleType</th>\n",
       "      <th>RegistrationYear</th>\n",
       "      <th>Gearbox</th>\n",
       "      <th>Power</th>\n",
       "      <th>Model</th>\n",
       "      <th>Mileage</th>\n",
       "      <th>RegistrationMonth</th>\n",
       "      <th>FuelType</th>\n",
       "      <th>Brand</th>\n",
       "      <th>NotRepaired</th>\n",
       "      <th>DateCreated</th>\n",
       "      <th>NumberOfPictures</th>\n",
       "      <th>PostalCode</th>\n",
       "      <th>LastSeen</th>\n",
       "    </tr>\n",
       "  </thead>\n",
       "  <tbody>\n",
       "    <tr>\n",
       "      <th>0</th>\n",
       "      <td>24/03/2016 11:52</td>\n",
       "      <td>480</td>\n",
       "      <td>NaN</td>\n",
       "      <td>1993</td>\n",
       "      <td>manual</td>\n",
       "      <td>0</td>\n",
       "      <td>golf</td>\n",
       "      <td>150000</td>\n",
       "      <td>0</td>\n",
       "      <td>petrol</td>\n",
       "      <td>volkswagen</td>\n",
       "      <td>NaN</td>\n",
       "      <td>24/03/2016 00:00</td>\n",
       "      <td>0</td>\n",
       "      <td>70435</td>\n",
       "      <td>07/04/2016 03:16</td>\n",
       "    </tr>\n",
       "    <tr>\n",
       "      <th>1</th>\n",
       "      <td>24/03/2016 10:58</td>\n",
       "      <td>18300</td>\n",
       "      <td>coupe</td>\n",
       "      <td>2011</td>\n",
       "      <td>manual</td>\n",
       "      <td>190</td>\n",
       "      <td>NaN</td>\n",
       "      <td>125000</td>\n",
       "      <td>5</td>\n",
       "      <td>gasoline</td>\n",
       "      <td>audi</td>\n",
       "      <td>yes</td>\n",
       "      <td>24/03/2016 00:00</td>\n",
       "      <td>0</td>\n",
       "      <td>66954</td>\n",
       "      <td>07/04/2016 01:46</td>\n",
       "    </tr>\n",
       "    <tr>\n",
       "      <th>2</th>\n",
       "      <td>14/03/2016 12:52</td>\n",
       "      <td>9800</td>\n",
       "      <td>suv</td>\n",
       "      <td>2004</td>\n",
       "      <td>auto</td>\n",
       "      <td>163</td>\n",
       "      <td>grand</td>\n",
       "      <td>125000</td>\n",
       "      <td>8</td>\n",
       "      <td>gasoline</td>\n",
       "      <td>jeep</td>\n",
       "      <td>NaN</td>\n",
       "      <td>14/03/2016 00:00</td>\n",
       "      <td>0</td>\n",
       "      <td>90480</td>\n",
       "      <td>05/04/2016 12:47</td>\n",
       "    </tr>\n",
       "    <tr>\n",
       "      <th>3</th>\n",
       "      <td>17/03/2016 16:54</td>\n",
       "      <td>1500</td>\n",
       "      <td>small</td>\n",
       "      <td>2001</td>\n",
       "      <td>manual</td>\n",
       "      <td>75</td>\n",
       "      <td>golf</td>\n",
       "      <td>150000</td>\n",
       "      <td>6</td>\n",
       "      <td>petrol</td>\n",
       "      <td>volkswagen</td>\n",
       "      <td>no</td>\n",
       "      <td>17/03/2016 00:00</td>\n",
       "      <td>0</td>\n",
       "      <td>91074</td>\n",
       "      <td>17/03/2016 17:40</td>\n",
       "    </tr>\n",
       "    <tr>\n",
       "      <th>4</th>\n",
       "      <td>31/03/2016 17:25</td>\n",
       "      <td>3600</td>\n",
       "      <td>small</td>\n",
       "      <td>2008</td>\n",
       "      <td>manual</td>\n",
       "      <td>69</td>\n",
       "      <td>fabia</td>\n",
       "      <td>90000</td>\n",
       "      <td>7</td>\n",
       "      <td>gasoline</td>\n",
       "      <td>skoda</td>\n",
       "      <td>no</td>\n",
       "      <td>31/03/2016 00:00</td>\n",
       "      <td>0</td>\n",
       "      <td>60437</td>\n",
       "      <td>06/04/2016 10:17</td>\n",
       "    </tr>\n",
       "  </tbody>\n",
       "</table>\n",
       "</div>"
      ],
      "text/plain": [
       "        DateCrawled  Price VehicleType  RegistrationYear Gearbox  Power  \\\n",
       "0  24/03/2016 11:52    480         NaN              1993  manual      0   \n",
       "1  24/03/2016 10:58  18300       coupe              2011  manual    190   \n",
       "2  14/03/2016 12:52   9800         suv              2004    auto    163   \n",
       "3  17/03/2016 16:54   1500       small              2001  manual     75   \n",
       "4  31/03/2016 17:25   3600       small              2008  manual     69   \n",
       "\n",
       "   Model  Mileage  RegistrationMonth  FuelType       Brand NotRepaired  \\\n",
       "0   golf   150000                  0    petrol  volkswagen         NaN   \n",
       "1    NaN   125000                  5  gasoline        audi         yes   \n",
       "2  grand   125000                  8  gasoline        jeep         NaN   \n",
       "3   golf   150000                  6    petrol  volkswagen          no   \n",
       "4  fabia    90000                  7  gasoline       skoda          no   \n",
       "\n",
       "        DateCreated  NumberOfPictures  PostalCode          LastSeen  \n",
       "0  24/03/2016 00:00                 0       70435  07/04/2016 03:16  \n",
       "1  24/03/2016 00:00                 0       66954  07/04/2016 01:46  \n",
       "2  14/03/2016 00:00                 0       90480  05/04/2016 12:47  \n",
       "3  17/03/2016 00:00                 0       91074  17/03/2016 17:40  \n",
       "4  31/03/2016 00:00                 0       60437  06/04/2016 10:17  "
      ]
     },
     "execution_count": 16,
     "metadata": {},
     "output_type": "execute_result"
    }
   ],
   "source": [
    "df.head()"
   ]
  },
  {
   "cell_type": "markdown",
   "metadata": {},
   "source": [
    "# Análisis visual de los datos"
   ]
  },
  {
   "cell_type": "markdown",
   "metadata": {},
   "source": [
    "En esta sección vamos a realizar un análisis a los datos a través de dos gráficas que son: gráfica de barras que nos mostraran los 10 autos más vendidos según el data set al igual de un gráfico de diagrama de caja y bigote identificando principalmente si hay valores atípicos."
   ]
  },
  {
   "cell_type": "markdown",
   "metadata": {},
   "source": [
    "## Gráfico de barras"
   ]
  },
  {
   "cell_type": "code",
   "execution_count": 17,
   "metadata": {},
   "outputs": [
    {
     "data": {
      "image/png": "[encoded data removed]",
      "text/plain": [
       "<Figure size 640x480 with 1 Axes>"
      ]
     },
     "metadata": {},
     "output_type": "display_data"
    }
   ],
   "source": [
    "best_brands = df.groupby('Brand')['Brand'].count().sort_values(ascending=False).head(10)\n",
    "\n",
    "best_brands.plot(kind=\"bar\", x=\"Brand\", \n",
    "                title=\"Top 10 Brands\", ylabel='Number of cars',xlabel='Brand')\n",
    "plt.show()"
   ]
  },
  {
   "cell_type": "markdown",
   "metadata": {},
   "source": [
    "El gráfico de barras muestra que Volkswagen domina el mercado en este dataset, con un número significativamente mayor de coches registrados en comparación con otras marcas como Opel y BMW. Esto sugiere que Volkswagen tiene una fuerte presencia en el mercado de vehículos de segunda mano, lo que podría influir en el análisis de precios y estrategias de mercado en el proyecto."
   ]
  },
  {
   "cell_type": "markdown",
   "metadata": {},
   "source": [
    "## Gráfico de caja y bigote"
   ]
  },
  {
   "cell_type": "code",
   "execution_count": 18,
   "metadata": {},
   "outputs": [
    {
     "data": {
      "text/plain": [
       "<AxesSubplot:xlabel='RegistrationYear'>"
      ]
     },
     "execution_count": 18,
     "metadata": {},
     "output_type": "execute_result"
    },
    {
     "data": {
      "image/png": "[encoded data removed]",
      "text/plain": [
       "<Figure size 640x480 with 1 Axes>"
      ]
     },
     "metadata": {},
     "output_type": "display_data"
    }
   ],
   "source": [
    "sns.boxplot(x=df['RegistrationYear'])"
   ]
  },
  {
   "cell_type": "code",
   "execution_count": 19,
   "metadata": {},
   "outputs": [
    {
     "data": {
      "text/plain": [
       "<AxesSubplot:xlabel='Power'>"
      ]
     },
     "execution_count": 19,
     "metadata": {},
     "output_type": "execute_result"
    },
    {
     "data": {
      "image/png": "[encoded data removed]",
      "text/plain": [
       "<Figure size 640x480 with 1 Axes>"
      ]
     },
     "metadata": {},
     "output_type": "display_data"
    }
   ],
   "source": [
    "sns.boxplot(x=df['Power'])\n"
   ]
  },
  {
   "cell_type": "markdown",
   "metadata": {},
   "source": [
    "Los diagramas de caja muestran una gran cantidad de valores atípicos tanto en los años de registro (RegistrationYear) como en la potencia (Power). En el primer caso, los años de registro incluyen valores irreales (muy superiores al año actual), lo que indica datos erróneos que deben ser filtrados. En el segundo caso, la potencia tiene valores extremadamente altos que no son representativos de la mayoría de los vehículos. Estos outliers pueden distorsionar el análisis y el modelo, por lo que es crucial aplicar estrategias de limpieza, como recortar rangos razonables o imputar valores."
   ]
  },
  {
   "cell_type": "markdown",
   "metadata": {},
   "source": [
    "# Eliminación de columnas innecesarias"
   ]
  },
  {
   "cell_type": "markdown",
   "metadata": {},
   "source": [
    "En el dataset tenemos disponible bastante valores nulo y columnas que no aportan nada para determinar el precio final de un vehículo por lo cual procederemos a eliminarlos."
   ]
  },
  {
   "cell_type": "code",
   "execution_count": 20,
   "metadata": {},
   "outputs": [
    {
     "data": {
      "text/html": [
       "<div>\n",
       "<style scoped>\n",
       "    .dataframe tbody tr th:only-of-type {\n",
       "        vertical-align: middle;\n",
       "    }\n",
       "\n",
       "    .dataframe tbody tr th {\n",
       "        vertical-align: top;\n",
       "    }\n",
       "\n",
       "    .dataframe thead th {\n",
       "        text-align: right;\n",
       "    }\n",
       "</style>\n",
       "<table border=\"1\" class=\"dataframe\">\n",
       "  <thead>\n",
       "    <tr style=\"text-align: right;\">\n",
       "      <th></th>\n",
       "      <th>Price</th>\n",
       "      <th>VehicleType</th>\n",
       "      <th>RegistrationYear</th>\n",
       "      <th>Gearbox</th>\n",
       "      <th>Power</th>\n",
       "      <th>Model</th>\n",
       "      <th>Mileage</th>\n",
       "      <th>RegistrationMonth</th>\n",
       "      <th>FuelType</th>\n",
       "      <th>Brand</th>\n",
       "      <th>NotRepaired</th>\n",
       "    </tr>\n",
       "  </thead>\n",
       "  <tbody>\n",
       "    <tr>\n",
       "      <th>0</th>\n",
       "      <td>480</td>\n",
       "      <td>NaN</td>\n",
       "      <td>1993</td>\n",
       "      <td>manual</td>\n",
       "      <td>0</td>\n",
       "      <td>golf</td>\n",
       "      <td>150000</td>\n",
       "      <td>0</td>\n",
       "      <td>petrol</td>\n",
       "      <td>volkswagen</td>\n",
       "      <td>NaN</td>\n",
       "    </tr>\n",
       "    <tr>\n",
       "      <th>1</th>\n",
       "      <td>18300</td>\n",
       "      <td>coupe</td>\n",
       "      <td>2011</td>\n",
       "      <td>manual</td>\n",
       "      <td>190</td>\n",
       "      <td>NaN</td>\n",
       "      <td>125000</td>\n",
       "      <td>5</td>\n",
       "      <td>gasoline</td>\n",
       "      <td>audi</td>\n",
       "      <td>yes</td>\n",
       "    </tr>\n",
       "    <tr>\n",
       "      <th>2</th>\n",
       "      <td>9800</td>\n",
       "      <td>suv</td>\n",
       "      <td>2004</td>\n",
       "      <td>auto</td>\n",
       "      <td>163</td>\n",
       "      <td>grand</td>\n",
       "      <td>125000</td>\n",
       "      <td>8</td>\n",
       "      <td>gasoline</td>\n",
       "      <td>jeep</td>\n",
       "      <td>NaN</td>\n",
       "    </tr>\n",
       "    <tr>\n",
       "      <th>3</th>\n",
       "      <td>1500</td>\n",
       "      <td>small</td>\n",
       "      <td>2001</td>\n",
       "      <td>manual</td>\n",
       "      <td>75</td>\n",
       "      <td>golf</td>\n",
       "      <td>150000</td>\n",
       "      <td>6</td>\n",
       "      <td>petrol</td>\n",
       "      <td>volkswagen</td>\n",
       "      <td>no</td>\n",
       "    </tr>\n",
       "    <tr>\n",
       "      <th>4</th>\n",
       "      <td>3600</td>\n",
       "      <td>small</td>\n",
       "      <td>2008</td>\n",
       "      <td>manual</td>\n",
       "      <td>69</td>\n",
       "      <td>fabia</td>\n",
       "      <td>90000</td>\n",
       "      <td>7</td>\n",
       "      <td>gasoline</td>\n",
       "      <td>skoda</td>\n",
       "      <td>no</td>\n",
       "    </tr>\n",
       "  </tbody>\n",
       "</table>\n",
       "</div>"
      ],
      "text/plain": [
       "   Price VehicleType  RegistrationYear Gearbox  Power  Model  Mileage  \\\n",
       "0    480         NaN              1993  manual      0   golf   150000   \n",
       "1  18300       coupe              2011  manual    190    NaN   125000   \n",
       "2   9800         suv              2004    auto    163  grand   125000   \n",
       "3   1500       small              2001  manual     75   golf   150000   \n",
       "4   3600       small              2008  manual     69  fabia    90000   \n",
       "\n",
       "   RegistrationMonth  FuelType       Brand NotRepaired  \n",
       "0                  0    petrol  volkswagen         NaN  \n",
       "1                  5  gasoline        audi         yes  \n",
       "2                  8  gasoline        jeep         NaN  \n",
       "3                  6    petrol  volkswagen          no  \n",
       "4                  7  gasoline       skoda          no  "
      ]
     },
     "execution_count": 20,
     "metadata": {},
     "output_type": "execute_result"
    }
   ],
   "source": [
    "trash = ['DateCrawled', 'DateCreated', 'NumberOfPictures', 'LastSeen', 'PostalCode']\n",
    "\n",
    "df = df.drop(trash, axis=1)\n",
    "df.head()"
   ]
  },
  {
   "cell_type": "markdown",
   "metadata": {},
   "source": [
    "# Tratamiento de valores nulos"
   ]
  },
  {
   "cell_type": "markdown",
   "metadata": {},
   "source": [
    "Como los valores no son númericos se remplazará con el término 'unknown'."
   ]
  },
  {
   "cell_type": "code",
   "execution_count": 21,
   "metadata": {},
   "outputs": [
    {
     "data": {
      "text/plain": [
       "Price                    0\n",
       "VehicleType          37490\n",
       "RegistrationYear         0\n",
       "Gearbox              19833\n",
       "Power                    0\n",
       "Model                19705\n",
       "Mileage                  0\n",
       "RegistrationMonth        0\n",
       "FuelType             32895\n",
       "Brand                    0\n",
       "NotRepaired          71154\n",
       "dtype: int64"
      ]
     },
     "execution_count": 21,
     "metadata": {},
     "output_type": "execute_result"
    }
   ],
   "source": [
    "df.isna().sum()"
   ]
  },
  {
   "cell_type": "code",
   "execution_count": 22,
   "metadata": {},
   "outputs": [
    {
     "data": {
      "text/html": [
       "<div>\n",
       "<style scoped>\n",
       "    .dataframe tbody tr th:only-of-type {\n",
       "        vertical-align: middle;\n",
       "    }\n",
       "\n",
       "    .dataframe tbody tr th {\n",
       "        vertical-align: top;\n",
       "    }\n",
       "\n",
       "    .dataframe thead th {\n",
       "        text-align: right;\n",
       "    }\n",
       "</style>\n",
       "<table border=\"1\" class=\"dataframe\">\n",
       "  <thead>\n",
       "    <tr style=\"text-align: right;\">\n",
       "      <th></th>\n",
       "      <th>Price</th>\n",
       "      <th>VehicleType</th>\n",
       "      <th>RegistrationYear</th>\n",
       "      <th>Gearbox</th>\n",
       "      <th>Power</th>\n",
       "      <th>Model</th>\n",
       "      <th>Mileage</th>\n",
       "      <th>RegistrationMonth</th>\n",
       "      <th>FuelType</th>\n",
       "      <th>Brand</th>\n",
       "      <th>NotRepaired</th>\n",
       "    </tr>\n",
       "  </thead>\n",
       "  <tbody>\n",
       "    <tr>\n",
       "      <th>0</th>\n",
       "      <td>480</td>\n",
       "      <td>unknown</td>\n",
       "      <td>1993</td>\n",
       "      <td>manual</td>\n",
       "      <td>0</td>\n",
       "      <td>golf</td>\n",
       "      <td>150000</td>\n",
       "      <td>0</td>\n",
       "      <td>petrol</td>\n",
       "      <td>volkswagen</td>\n",
       "      <td>unknown</td>\n",
       "    </tr>\n",
       "    <tr>\n",
       "      <th>1</th>\n",
       "      <td>18300</td>\n",
       "      <td>coupe</td>\n",
       "      <td>2011</td>\n",
       "      <td>manual</td>\n",
       "      <td>190</td>\n",
       "      <td>unknown</td>\n",
       "      <td>125000</td>\n",
       "      <td>5</td>\n",
       "      <td>gasoline</td>\n",
       "      <td>audi</td>\n",
       "      <td>yes</td>\n",
       "    </tr>\n",
       "    <tr>\n",
       "      <th>2</th>\n",
       "      <td>9800</td>\n",
       "      <td>suv</td>\n",
       "      <td>2004</td>\n",
       "      <td>auto</td>\n",
       "      <td>163</td>\n",
       "      <td>grand</td>\n",
       "      <td>125000</td>\n",
       "      <td>8</td>\n",
       "      <td>gasoline</td>\n",
       "      <td>jeep</td>\n",
       "      <td>unknown</td>\n",
       "    </tr>\n",
       "    <tr>\n",
       "      <th>3</th>\n",
       "      <td>1500</td>\n",
       "      <td>small</td>\n",
       "      <td>2001</td>\n",
       "      <td>manual</td>\n",
       "      <td>75</td>\n",
       "      <td>golf</td>\n",
       "      <td>150000</td>\n",
       "      <td>6</td>\n",
       "      <td>petrol</td>\n",
       "      <td>volkswagen</td>\n",
       "      <td>no</td>\n",
       "    </tr>\n",
       "    <tr>\n",
       "      <th>4</th>\n",
       "      <td>3600</td>\n",
       "      <td>small</td>\n",
       "      <td>2008</td>\n",
       "      <td>manual</td>\n",
       "      <td>69</td>\n",
       "      <td>fabia</td>\n",
       "      <td>90000</td>\n",
       "      <td>7</td>\n",
       "      <td>gasoline</td>\n",
       "      <td>skoda</td>\n",
       "      <td>no</td>\n",
       "    </tr>\n",
       "  </tbody>\n",
       "</table>\n",
       "</div>"
      ],
      "text/plain": [
       "   Price VehicleType  RegistrationYear Gearbox  Power    Model  Mileage  \\\n",
       "0    480     unknown              1993  manual      0     golf   150000   \n",
       "1  18300       coupe              2011  manual    190  unknown   125000   \n",
       "2   9800         suv              2004    auto    163    grand   125000   \n",
       "3   1500       small              2001  manual     75     golf   150000   \n",
       "4   3600       small              2008  manual     69    fabia    90000   \n",
       "\n",
       "   RegistrationMonth  FuelType       Brand NotRepaired  \n",
       "0                  0    petrol  volkswagen     unknown  \n",
       "1                  5  gasoline        audi         yes  \n",
       "2                  8  gasoline        jeep     unknown  \n",
       "3                  6    petrol  volkswagen          no  \n",
       "4                  7  gasoline       skoda          no  "
      ]
     },
     "execution_count": 22,
     "metadata": {},
     "output_type": "execute_result"
    }
   ],
   "source": [
    "df = df.fillna('unknown')\n",
    "df.head()"
   ]
  },
  {
   "cell_type": "markdown",
   "metadata": {},
   "source": [
    "# Codificación"
   ]
  },
  {
   "cell_type": "markdown",
   "metadata": {},
   "source": [
    "One-Hot Encoding transforma variables categóricas en columnas binarias (0 y 1) para que los modelos de machine learning puedan procesarlas. En este proyecto, se usaría para convertir columnas como VehicleType, FuelType o Gearbox en formato numérico utilizando herramientas como OneHotEncoder, el único incomeninete sería que va a crear demasiadas columnas por lo cual afectaría al rendimiento del model, por esta razón voy a sustiruit el valor categórico por la frecuencia, en otras palabras, vamos a procesar el modelo por el número de veces que se repite cada variable."
   ]
  },
  {
   "cell_type": "code",
   "execution_count": 23,
   "metadata": {},
   "outputs": [
    {
     "data": {
      "text/html": [
       "<div>\n",
       "<style scoped>\n",
       "    .dataframe tbody tr th:only-of-type {\n",
       "        vertical-align: middle;\n",
       "    }\n",
       "\n",
       "    .dataframe tbody tr th {\n",
       "        vertical-align: top;\n",
       "    }\n",
       "\n",
       "    .dataframe thead th {\n",
       "        text-align: right;\n",
       "    }\n",
       "</style>\n",
       "<table border=\"1\" class=\"dataframe\">\n",
       "  <thead>\n",
       "    <tr style=\"text-align: right;\">\n",
       "      <th></th>\n",
       "      <th>Price</th>\n",
       "      <th>VehicleType</th>\n",
       "      <th>RegistrationYear</th>\n",
       "      <th>Gearbox</th>\n",
       "      <th>Power</th>\n",
       "      <th>Model</th>\n",
       "      <th>Mileage</th>\n",
       "      <th>RegistrationMonth</th>\n",
       "      <th>FuelType</th>\n",
       "      <th>Brand</th>\n",
       "      <th>NotRepaired</th>\n",
       "    </tr>\n",
       "  </thead>\n",
       "  <tbody>\n",
       "    <tr>\n",
       "      <th>0</th>\n",
       "      <td>480</td>\n",
       "      <td>37490</td>\n",
       "      <td>1993</td>\n",
       "      <td>268251</td>\n",
       "      <td>0</td>\n",
       "      <td>29232</td>\n",
       "      <td>150000</td>\n",
       "      <td>0</td>\n",
       "      <td>216352</td>\n",
       "      <td>77013</td>\n",
       "      <td>71154</td>\n",
       "    </tr>\n",
       "    <tr>\n",
       "      <th>1</th>\n",
       "      <td>18300</td>\n",
       "      <td>16163</td>\n",
       "      <td>2011</td>\n",
       "      <td>268251</td>\n",
       "      <td>190</td>\n",
       "      <td>19705</td>\n",
       "      <td>125000</td>\n",
       "      <td>5</td>\n",
       "      <td>98720</td>\n",
       "      <td>29456</td>\n",
       "      <td>36054</td>\n",
       "    </tr>\n",
       "    <tr>\n",
       "      <th>2</th>\n",
       "      <td>9800</td>\n",
       "      <td>11996</td>\n",
       "      <td>2004</td>\n",
       "      <td>66285</td>\n",
       "      <td>163</td>\n",
       "      <td>561</td>\n",
       "      <td>125000</td>\n",
       "      <td>8</td>\n",
       "      <td>98720</td>\n",
       "      <td>677</td>\n",
       "      <td>71154</td>\n",
       "    </tr>\n",
       "    <tr>\n",
       "      <th>3</th>\n",
       "      <td>1500</td>\n",
       "      <td>79831</td>\n",
       "      <td>2001</td>\n",
       "      <td>268251</td>\n",
       "      <td>75</td>\n",
       "      <td>29232</td>\n",
       "      <td>150000</td>\n",
       "      <td>6</td>\n",
       "      <td>216352</td>\n",
       "      <td>77013</td>\n",
       "      <td>247161</td>\n",
       "    </tr>\n",
       "    <tr>\n",
       "      <th>4</th>\n",
       "      <td>3600</td>\n",
       "      <td>79831</td>\n",
       "      <td>2008</td>\n",
       "      <td>268251</td>\n",
       "      <td>69</td>\n",
       "      <td>2080</td>\n",
       "      <td>90000</td>\n",
       "      <td>7</td>\n",
       "      <td>98720</td>\n",
       "      <td>5500</td>\n",
       "      <td>247161</td>\n",
       "    </tr>\n",
       "  </tbody>\n",
       "</table>\n",
       "</div>"
      ],
      "text/plain": [
       "   Price  VehicleType  RegistrationYear  Gearbox  Power  Model  Mileage  \\\n",
       "0    480        37490              1993   268251      0  29232   150000   \n",
       "1  18300        16163              2011   268251    190  19705   125000   \n",
       "2   9800        11996              2004    66285    163    561   125000   \n",
       "3   1500        79831              2001   268251     75  29232   150000   \n",
       "4   3600        79831              2008   268251     69   2080    90000   \n",
       "\n",
       "   RegistrationMonth  FuelType  Brand  NotRepaired  \n",
       "0                  0    216352  77013        71154  \n",
       "1                  5     98720  29456        36054  \n",
       "2                  8     98720    677        71154  \n",
       "3                  6    216352  77013       247161  \n",
       "4                  7     98720   5500       247161  "
      ]
     },
     "execution_count": 23,
     "metadata": {},
     "output_type": "execute_result"
    }
   ],
   "source": [
    "cat_col = ['VehicleType', 'Gearbox', 'Model', 'FuelType', 'Brand', 'NotRepaired']\n",
    "\n",
    "for cat in cat_col:\n",
    "    df[cat] = df.groupby(cat)[cat].transform('count')\n",
    "\n",
    "df.head()"
   ]
  },
  {
   "cell_type": "code",
   "execution_count": 24,
   "metadata": {},
   "outputs": [
    {
     "data": {
      "text/plain": [
       "((354369,), (354369, 10))"
      ]
     },
     "execution_count": 24,
     "metadata": {},
     "output_type": "execute_result"
    }
   ],
   "source": [
    "target = df['Price']\n",
    "features = df.drop(['Price'], axis=1)\n",
    "target.shape, features.shape"
   ]
  },
  {
   "cell_type": "markdown",
   "metadata": {},
   "source": [
    "# Escalado y estandarización de características."
   ]
  },
  {
   "cell_type": "markdown",
   "metadata": {},
   "source": [
    "Dado que cada columna tiene un rango diferente debido a las distintas frecuencias, esto podría generar confusión para el modelo durante el entrenamiento. Por esta razón, es importante estandarizar todas las características para evitar que algunas variables influyan más de lo necesario en el modelo y afecten la precisión de nuestras predicciones."
   ]
  },
  {
   "cell_type": "code",
   "execution_count": 25,
   "metadata": {},
   "outputs": [
    {
     "name": "stdout",
     "output_type": "stream",
     "text": [
      "VehicleType: minimo = 3288, maximo = 91457\n",
      "RegistrationYear: minimo = 1000, maximo = 9999\n",
      "Gearbox: minimo = 19833, maximo = 268251\n",
      "Power: minimo = 0, maximo = 20000\n",
      "Model: minimo = 2, maximo = 29232\n",
      "Mileage: minimo = 5000, maximo = 150000\n",
      "RegistrationMonth: minimo = 0, maximo = 12\n",
      "FuelType: minimo = 90, maximo = 216352\n",
      "Brand: minimo = 225, maximo = 77013\n",
      "NotRepaired: minimo = 36054, maximo = 247161\n"
     ]
    }
   ],
   "source": [
    "columns = features.columns\n",
    "for col in features[columns]:\n",
    "    minimo = features[col].min()\n",
    "    maximo = features[col].max()\n",
    "    print(f\"{col}: minimo = {minimo}, maximo = {maximo}\")"
   ]
  },
  {
   "cell_type": "code",
   "execution_count": 26,
   "metadata": {},
   "outputs": [
    {
     "data": {
      "text/html": [
       "<div>\n",
       "<style scoped>\n",
       "    .dataframe tbody tr th:only-of-type {\n",
       "        vertical-align: middle;\n",
       "    }\n",
       "\n",
       "    .dataframe tbody tr th {\n",
       "        vertical-align: top;\n",
       "    }\n",
       "\n",
       "    .dataframe thead th {\n",
       "        text-align: right;\n",
       "    }\n",
       "</style>\n",
       "<table border=\"1\" class=\"dataframe\">\n",
       "  <thead>\n",
       "    <tr style=\"text-align: right;\">\n",
       "      <th></th>\n",
       "      <th>VehicleType</th>\n",
       "      <th>RegistrationYear</th>\n",
       "      <th>Gearbox</th>\n",
       "      <th>Power</th>\n",
       "      <th>Model</th>\n",
       "      <th>Mileage</th>\n",
       "      <th>RegistrationMonth</th>\n",
       "      <th>FuelType</th>\n",
       "      <th>Brand</th>\n",
       "      <th>NotRepaired</th>\n",
       "    </tr>\n",
       "  </thead>\n",
       "  <tbody>\n",
       "    <tr>\n",
       "      <th>0</th>\n",
       "      <td>-0.894770</td>\n",
       "      <td>-0.124512</td>\n",
       "      <td>0.563461</td>\n",
       "      <td>-0.579901</td>\n",
       "      <td>2.071540</td>\n",
       "      <td>0.574823</td>\n",
       "      <td>-1.533550</td>\n",
       "      <td>0.764998</td>\n",
       "      <td>1.662034</td>\n",
       "      <td>-1.373884</td>\n",
       "    </tr>\n",
       "    <tr>\n",
       "      <th>1</th>\n",
       "      <td>-1.667053</td>\n",
       "      <td>0.074983</td>\n",
       "      <td>0.563461</td>\n",
       "      <td>0.420888</td>\n",
       "      <td>1.050306</td>\n",
       "      <td>-0.084716</td>\n",
       "      <td>-0.191778</td>\n",
       "      <td>-0.913027</td>\n",
       "      <td>-0.200203</td>\n",
       "      <td>-1.778483</td>\n",
       "    </tr>\n",
       "    <tr>\n",
       "      <th>2</th>\n",
       "      <td>-1.817946</td>\n",
       "      <td>-0.002598</td>\n",
       "      <td>-1.638502</td>\n",
       "      <td>0.278671</td>\n",
       "      <td>-1.001809</td>\n",
       "      <td>-0.084716</td>\n",
       "      <td>0.613285</td>\n",
       "      <td>-0.913027</td>\n",
       "      <td>-1.327130</td>\n",
       "      <td>-1.373884</td>\n",
       "    </tr>\n",
       "    <tr>\n",
       "      <th>3</th>\n",
       "      <td>0.638460</td>\n",
       "      <td>-0.035848</td>\n",
       "      <td>0.563461</td>\n",
       "      <td>-0.184853</td>\n",
       "      <td>2.071540</td>\n",
       "      <td>0.574823</td>\n",
       "      <td>0.076576</td>\n",
       "      <td>0.764998</td>\n",
       "      <td>1.662034</td>\n",
       "      <td>0.654953</td>\n",
       "    </tr>\n",
       "    <tr>\n",
       "      <th>4</th>\n",
       "      <td>0.638460</td>\n",
       "      <td>0.041734</td>\n",
       "      <td>0.563461</td>\n",
       "      <td>-0.216457</td>\n",
       "      <td>-0.838982</td>\n",
       "      <td>-1.008070</td>\n",
       "      <td>0.344931</td>\n",
       "      <td>-0.913027</td>\n",
       "      <td>-1.138271</td>\n",
       "      <td>0.654953</td>\n",
       "    </tr>\n",
       "  </tbody>\n",
       "</table>\n",
       "</div>"
      ],
      "text/plain": [
       "   VehicleType  RegistrationYear   Gearbox     Power     Model   Mileage  \\\n",
       "0    -0.894770         -0.124512  0.563461 -0.579901  2.071540  0.574823   \n",
       "1    -1.667053          0.074983  0.563461  0.420888  1.050306 -0.084716   \n",
       "2    -1.817946         -0.002598 -1.638502  0.278671 -1.001809 -0.084716   \n",
       "3     0.638460         -0.035848  0.563461 -0.184853  2.071540  0.574823   \n",
       "4     0.638460          0.041734  0.563461 -0.216457 -0.838982 -1.008070   \n",
       "\n",
       "   RegistrationMonth  FuelType     Brand  NotRepaired  \n",
       "0          -1.533550  0.764998  1.662034    -1.373884  \n",
       "1          -0.191778 -0.913027 -0.200203    -1.778483  \n",
       "2           0.613285 -0.913027 -1.327130    -1.373884  \n",
       "3           0.076576  0.764998  1.662034     0.654953  \n",
       "4           0.344931 -0.913027 -1.138271     0.654953  "
      ]
     },
     "execution_count": 26,
     "metadata": {},
     "output_type": "execute_result"
    }
   ],
   "source": [
    "scaler = StandardScaler()\n",
    "\n",
    "scaler.fit(features[columns])\n",
    "\n",
    "features[columns] = scaler.transform(features[columns])\n",
    "\n",
    "features.head()"
   ]
  },
  {
   "cell_type": "markdown",
   "metadata": {},
   "source": [
    "# Datasets de entrenamiento y validación"
   ]
  },
  {
   "cell_type": "markdown",
   "metadata": {},
   "source": [
    "Se procederá a dividir los datos con el uso de train_test_split en dos etapas de entrenamiento, validación y prueba, con el fin de que sean independientes entre sí, evitando la contaminación de datos.\n",
    "Vamos a convertir los conjuntos de datos en matrices de NumPy mejora la eficiencia computacional, ya que la mayoría de bibliotecas de machine learning trabajan mejor con matrices Numpy que con DataFrames de pandas."
   ]
  },
  {
   "cell_type": "code",
   "execution_count": 27,
   "metadata": {},
   "outputs": [
    {
     "data": {
      "text/plain": [
       "((212621, 10), (70874, 10), (70874, 10))"
      ]
     },
     "execution_count": 27,
     "metadata": {},
     "output_type": "execute_result"
    }
   ],
   "source": [
    "\n",
    "features_train, sub_features, target_train, sub_target = train_test_split(\n",
    "    features, target, test_size=0.40, random_state=12345)\n",
    "\n",
    "features_valid, features_test, target_valid, target_test = train_test_split(\n",
    "    sub_features, sub_target, test_size=0.50, random_state=12345)\n",
    "\n",
    "X_train = np.array(features_train)\n",
    "X_valid = np.array(features_valid)\n",
    "X_test = np.array(features_test)\n",
    "\n",
    "Y_train = np.array(target_train)\n",
    "Y_valid = np.array(target_valid)\n",
    "Y_test = np.array(target_test)\n",
    "\n",
    "X_train.shape, X_valid.shape, X_test.shape"
   ]
  },
  {
   "cell_type": "code",
   "execution_count": 28,
   "metadata": {},
   "outputs": [
    {
     "data": {
      "text/plain": [
       "((212621, 10), (70874, 10), (70874, 10))"
      ]
     },
     "execution_count": 28,
     "metadata": {},
     "output_type": "execute_result"
    }
   ],
   "source": [
    "features_train, sub_features, target_train, sub_target = train_test_split(\n",
    "    features, target, test_size=0.40, random_state=12345)\n",
    "features_valid, features_test, target_valid, target_test = train_test_split(\n",
    "    sub_features, sub_target, test_size=0.50, random_state=12345)\n",
    "\n",
    "X_train = np.array(features_train)\n",
    "X_valid = np.array(features_valid)\n",
    "X_test = np.array(features_test)\n",
    "\n",
    "Y_train = np.array(target_train)\n",
    "Y_valid = np.array(target_valid)\n",
    "Y_test = np.array(target_test)\n",
    "\n",
    "X_train.shape, X_valid.shape, X_test.shape\n"
   ]
  },
  {
   "cell_type": "markdown",
   "metadata": {},
   "source": [
    "# Entrenamiento del modelo "
   ]
  },
  {
   "cell_type": "code",
   "execution_count": 40,
   "metadata": {},
   "outputs": [],
   "source": [
    "def evaluate_model(model,X_train, Y_train, X_valid, Y_valid):\n",
    "    \"\"\"\n",
    "    Entrena un modelo, calcula los tiempos de entrenamiento y predicción, y devuelve el RECM, tiempo de entrenamiento y timepo de predicción.\n",
    "    \n",
    "    Args:\n",
    "    -model: el modelo a entrenar y evaluar.\n",
    "    -X_train, Y_train: datos de entrenamiento.\n",
    "    -X_valid, Y_valid: datos de validación.\n",
    "    \n",
    "    Returns:\n",
    "    -error: RECM del modelo.\n",
    "    -train_time: tiempo de entrenamiento.\n",
    "    -pred_time: time de predicción.\n",
    "    \"\"\"\n",
    "    #Medir tiempo de entrenamiento\n",
    "    start_train = time.time()\n",
    "    model.fit(X_train, Y_train)\n",
    "    end_train = time.time()\n",
    "    train_time = end_train - start_train\n",
    "    \n",
    "    #Medir timepo de predicción\n",
    "    start_pred = time.time()\n",
    "    predictions = model.predict(X_valid)\n",
    "    end_pred = time.time()\n",
    "    pred_time = end_pred - start_pred\n",
    "    \n",
    "    #Calcular RECM\n",
    "    error = mean_squared_error(Y_valid, predictions, squared=False)\n",
    "    \n",
    "    return error, train_time, pred_time\n",
    "    "
   ]
  },
  {
   "cell_type": "markdown",
   "metadata": {},
   "source": [
    "# Modelo 1: Linear Regression"
   ]
  },
  {
   "cell_type": "code",
   "execution_count": 41,
   "metadata": {},
   "outputs": [
    {
     "name": "stdout",
     "output_type": "stream",
     "text": [
      "Linear Regression - RECM: 3811.60, Tiempo de entrenamiento: 0.02s, Tiempo de predicción: 0.01s\n"
     ]
    }
   ],
   "source": [
    "\n",
    "model_lr = LinearRegression()\n",
    "error_lr, train_time_lr, pred_time_lr = evaluate_model(model_lr, X_train, Y_train, X_valid, Y_valid)\n",
    "print(f\"Linear Regression - RECM: {error_lr:.2f}, Tiempo de entrenamiento: {train_time_lr:.2f}s, Tiempo de predicción: {pred_time_lr:.2f}s\")"
   ]
  },
  {
   "cell_type": "markdown",
   "metadata": {},
   "source": [
    "El modelo de Linear Regression se destaca por su rapidez, con un tiempo de entrenamiento de 0.02 segundos y un tiempo de predicción de 0.01 segundos, lo que lo hace extremadamente eficiente en términos computacionales. Sin embargo, su RECM de 3811.60 es considerablemente alto, indicando que el modelo tiene dificultades para capturar relaciones complejas en los datos. Esto lo convierte en una opción poco viable para el problema en cuestión, ya que la precisión requerida por el negocio no se alcanza, a pesar de su rapidez."
   ]
  },
  {
   "cell_type": "markdown",
   "metadata": {},
   "source": [
    "# Modelo 2: Random Forest Regressor"
   ]
  },
  {
   "cell_type": "code",
   "execution_count": 45,
   "metadata": {},
   "outputs": [
    {
     "name": "stdout",
     "output_type": "stream",
     "text": [
      "Random Forest - RECM: 1978.77, Tiempo de entrenamiento: 23.23s, Tiempo de predicción: 0.44s\n"
     ]
    }
   ],
   "source": [
    "model_rf = RandomForestRegressor(random_state=12345, n_estimators=90, max_depth=10)\n",
    "error_rf, train_time_rf, pred_time_rf = evaluate_model(model_rf, X_train, Y_train, X_valid, Y_valid)\n",
    "print(f\"Random Forest - RECM: {error_rf:.2f}, Tiempo de entrenamiento: {train_time_rf:.2f}s, Tiempo de predicción: {pred_time_rf:.2f}s\")"
   ]
  },
  {
   "cell_type": "markdown",
   "metadata": {},
   "source": [
    "El modelo Random Forest alcanzó un RECM de 1978.77, mostrando una mejora significativa en comparación con la regresión lineal. Sin embargo, el tiempo de entrenamiento fue considerablemente alto, con 23.23 segundos, mientras que el tiempo de predicción fue más razonable, con 0.44 segundos. Esto indica que, aunque el modelo ofrece una mejor precisión, su tiempo de entrenamiento extenso podría ser un inconveniente en escenarios donde se requiera actualizar el modelo frecuentemente. En general, su desempeño es aceptable, pero no el más eficiente considerando los requisitos del negocio."
   ]
  },
  {
   "cell_type": "markdown",
   "metadata": {},
   "source": [
    "# Modelo 3: LightGBM"
   ]
  },
  {
   "cell_type": "code",
   "execution_count": 47,
   "metadata": {},
   "outputs": [
    {
     "name": "stdout",
     "output_type": "stream",
     "text": [
      "LightGBM - RECM: 1835.64, Tiempo de entrenamiento: 2.83s, Tiempo de predicción: 0.39s\n"
     ]
    }
   ],
   "source": [
    "model_lgbm = lgb.LGBMRegressor(metric='rmse')\n",
    "error_lgbm, train_time_lgbm, pred_time_lgbm = evaluate_model(model_lgbm, X_train, Y_train, X_valid, Y_valid)\n",
    "print(f\"LightGBM - RECM: {error_lgbm:.2f}, Tiempo de entrenamiento: {train_time_lgbm:.2f}s, Tiempo de predicción: {pred_time_lgbm:.2f}s\")\n"
   ]
  },
  {
   "cell_type": "markdown",
   "metadata": {},
   "source": [
    "El modelo LightGBM obtuvo un RECM de 1835.64, destacándose como uno de los modelos más precisos probados. Además, su tiempo de entrenamiento fue de 2.83 segundos y el tiempo de predicción de 0.39 segundos, lo que demuestra una excelente eficiencia tanto en rapidez como en precisión. Estas características hacen que LightGBM sea una opción muy adecuada para el problema, especialmente en contextos donde se requiere un balance entre un tiempo de respuesta rápido y un bajo margen de error en las predicciones."
   ]
  },
  {
   "cell_type": "markdown",
   "metadata": {},
   "source": [
    "# Modelo 4: CatBoost"
   ]
  },
  {
   "cell_type": "code",
   "execution_count": 48,
   "metadata": {},
   "outputs": [
    {
     "name": "stdout",
     "output_type": "stream",
     "text": [
      "CatBoost - RECM: 1776.89, Tiempo de entrenamiento: 10.28s, Tiempo de predicción: 0.03s\n"
     ]
    }
   ],
   "source": [
    "model_cb = CatBoostRegressor(iterations=200, learning_rate=0.1, depth=10, loss_function='RMSE', verbose=0)\n",
    "error_cb, train_time_cb, pred_time_cb = evaluate_model(model_cb, X_train, Y_train, X_valid, Y_valid)\n",
    "print(f\"CatBoost - RECM: {error_cb:.2f}, Tiempo de entrenamiento: {train_time_cb:.2f}s, Tiempo de predicción: {pred_time_cb:.2f}s\")"
   ]
  },
  {
   "cell_type": "markdown",
   "metadata": {},
   "source": [
    "El modelo CatBoost obtuvo el mejor RECM de 1776.89, destacándose como el modelo más preciso entre los evaluados. Sin embargo, su tiempo de entrenamiento fue de 10.28 segundos, considerablemente más alto que el de LightGBM, mientras que el tiempo de predicción fue extremadamente rápido, con solo 0.03 segundos. Este rendimiento lo convierte en una excelente opción si se prioriza la precisión sobre el tiempo de entrenamiento. Aunque su tiempo de entrenamiento es mayor, sigue siendo manejable en comparación con otros modelos menos precisos."
   ]
  },
  {
   "cell_type": "markdown",
   "metadata": {},
   "source": [
    "## Análisis del modelo"
   ]
  },
  {
   "cell_type": "markdown",
   "metadata": {},
   "source": [
    "Se implementaron y evaluaron cuatro modelos, considerando tanto su precisión (RECM) como sus tiempos de entrenamiento y predicción. Las conclusiones obtenidas son las siguientes:\n",
    "\n",
    "- Linear Regression: Fue el modelo más rápido en términos de tiempo de entrenamiento y predicción, pero su RECM más alto (3811.60) lo posiciona como el menos preciso y el menos adecuado para este problema, ya que no captura bien las relaciones complejas en los datos.\n",
    "\n",
    "- Random Forest Regressor: Aunque logró un RECM moderado de 1978.77, ajustar los hiperparámetros consumió mucho tiempo (23.23 segundos de entrenamiento). Además, su tiempo de predicción de 0.44 segundos lo hace menos eficiente en comparación con otros modelos. No es ideal para este caso debido a su alto costo computacional y precisión limitada.\n",
    "\n",
    "- LightGBM: Ofreció un excelente balance entre precisión y eficiencia, con un RECM de 1835.64, un tiempo de entrenamiento de 2.83 segundos y un tiempo de predicción de 0.39 segundos. Este modelo es una opción destacada para tareas que requieran rapidez y buen desempeño sin comprometer mucho tiempo en entrenamiento.\n",
    "\n",
    "- CatBoost: Destacó por ser el modelo más preciso, con un RECM de 1776.89. Aunque su tiempo de entrenamiento fue mayor (10.28 segundos), su tiempo de predicción de 0.03 segundos es el más rápido entre todos los modelos. Esto lo convierte en la mejor opción si la prioridad es la precisión sobre la rapidez del entrenamiento."
   ]
  },
  {
   "cell_type": "markdown",
   "metadata": {},
   "source": [
    "# Conclusión"
   ]
  },
  {
   "cell_type": "markdown",
   "metadata": {},
   "source": [
    "En este proyecto se evaluaron cuatro modelos de machine learning para predecir el precio de vehículos de segunda mano, considerando precisión, tiempos de entrenamiento y predicción. El mejor modelo fue CatBoost, con el RECM más bajo (1776.89) y un tiempo de predicción extremadamente rápido (0.03 segundos), lo que lo hace ideal para tareas donde la precisión es la prioridad. Sin embargo, LightGBM también destacó por su balance entre precisión (RECM de 1835.64) y rapidez de entrenamiento (2.83 segundos), posicionándose como una excelente opción en escenarios donde el tiempo de entrenamiento es crucial. A pesar de los resultados obtenidos, se recomienda mejorar la calidad del dataset para lograr modelos aún más robustos y precisos."
   ]
  }
 ],
 "metadata": {
  "ExecuteTimeLog": [
   {
    "duration": 3292,
    "start_time": "2024-12-27T19:39:52.201Z"
   },
   {
    "duration": 65,
    "start_time": "2024-12-27T19:40:12.412Z"
   },
   {
    "duration": 419,
    "start_time": "2024-12-27T19:41:51.633Z"
   },
   {
    "duration": 69,
    "start_time": "2024-12-27T19:42:10.695Z"
   },
   {
    "duration": 170,
    "start_time": "2024-12-27T19:42:14.380Z"
   },
   {
    "duration": 507,
    "start_time": "2024-12-27T19:43:30.688Z"
   },
   {
    "duration": 110,
    "start_time": "2024-12-27T19:43:45.578Z"
   },
   {
    "duration": 13,
    "start_time": "2024-12-27T19:49:18.890Z"
   },
   {
    "duration": 79,
    "start_time": "2024-12-27T20:03:34.248Z"
   },
   {
    "duration": 75,
    "start_time": "2024-12-27T20:03:48.182Z"
   },
   {
    "duration": 788,
    "start_time": "2024-12-27T20:04:03.148Z"
   },
   {
    "duration": 218,
    "start_time": "2024-12-27T20:04:55.651Z"
   },
   {
    "duration": 4,
    "start_time": "2024-12-27T20:05:16.304Z"
   },
   {
    "duration": 450,
    "start_time": "2024-12-27T20:05:16.981Z"
   },
   {
    "duration": 126,
    "start_time": "2024-12-27T20:05:17.629Z"
   },
   {
    "duration": 17,
    "start_time": "2024-12-27T20:05:18.532Z"
   },
   {
    "duration": 250,
    "start_time": "2024-12-27T20:05:20.899Z"
   },
   {
    "duration": 188,
    "start_time": "2024-12-27T20:05:25.501Z"
   },
   {
    "duration": 252,
    "start_time": "2024-12-27T20:06:18.044Z"
   },
   {
    "duration": 231,
    "start_time": "2024-12-27T20:07:35.145Z"
   },
   {
    "duration": 17,
    "start_time": "2024-12-27T20:08:48.658Z"
   },
   {
    "duration": 54,
    "start_time": "2024-12-27T20:08:56.794Z"
   },
   {
    "duration": 243,
    "start_time": "2024-12-27T20:10:44.033Z"
   },
   {
    "duration": 191,
    "start_time": "2024-12-27T20:11:04.074Z"
   },
   {
    "duration": 7,
    "start_time": "2024-12-27T20:14:32.625Z"
   },
   {
    "duration": 181,
    "start_time": "2024-12-27T20:14:40.049Z"
   },
   {
    "duration": 2736,
    "start_time": "2024-12-27T20:45:32.294Z"
   },
   {
    "duration": 454,
    "start_time": "2024-12-27T20:45:35.033Z"
   },
   {
    "duration": 91,
    "start_time": "2024-12-27T20:45:35.488Z"
   },
   {
    "duration": 13,
    "start_time": "2024-12-27T20:45:37.352Z"
   },
   {
    "duration": 185,
    "start_time": "2024-12-27T20:45:38.617Z"
   },
   {
    "duration": 3,
    "start_time": "2024-12-27T20:47:56.233Z"
   },
   {
    "duration": 394,
    "start_time": "2024-12-27T20:47:56.771Z"
   },
   {
    "duration": 3,
    "start_time": "2024-12-27T20:47:59.250Z"
   },
   {
    "duration": 412,
    "start_time": "2024-12-27T20:47:59.605Z"
   },
   {
    "duration": 97,
    "start_time": "2024-12-27T20:48:00.019Z"
   },
   {
    "duration": 11,
    "start_time": "2024-12-27T20:48:00.840Z"
   },
   {
    "duration": 161,
    "start_time": "2024-12-27T20:49:37.495Z"
   },
   {
    "duration": 126,
    "start_time": "2024-12-27T20:50:05.985Z"
   },
   {
    "duration": 22,
    "start_time": "2024-12-27T20:54:33.230Z"
   },
   {
    "duration": 60,
    "start_time": "2024-12-27T20:57:43.931Z"
   },
   {
    "duration": 73,
    "start_time": "2024-12-27T20:58:23.925Z"
   },
   {
    "duration": 85,
    "start_time": "2024-12-27T20:58:40.507Z"
   },
   {
    "duration": 16,
    "start_time": "2024-12-27T20:58:48.344Z"
   },
   {
    "duration": 10,
    "start_time": "2024-12-27T20:59:00.525Z"
   },
   {
    "duration": 6,
    "start_time": "2024-12-27T20:59:06.277Z"
   },
   {
    "duration": 10,
    "start_time": "2024-12-27T20:59:06.886Z"
   },
   {
    "duration": 6,
    "start_time": "2024-12-27T20:59:13.117Z"
   },
   {
    "duration": 10,
    "start_time": "2024-12-27T20:59:13.935Z"
   },
   {
    "duration": 4,
    "start_time": "2024-12-27T20:59:50.272Z"
   },
   {
    "duration": 400,
    "start_time": "2024-12-27T20:59:50.451Z"
   },
   {
    "duration": 92,
    "start_time": "2024-12-27T20:59:50.853Z"
   },
   {
    "duration": 10,
    "start_time": "2024-12-27T20:59:51.103Z"
   },
   {
    "duration": 172,
    "start_time": "2024-12-27T20:59:52.130Z"
   },
   {
    "duration": 107,
    "start_time": "2024-12-27T20:59:52.893Z"
   },
   {
    "duration": 131,
    "start_time": "2024-12-27T20:59:53.251Z"
   },
   {
    "duration": 17,
    "start_time": "2024-12-27T20:59:54.894Z"
   },
   {
    "duration": 60,
    "start_time": "2024-12-27T20:59:56.301Z"
   },
   {
    "duration": 83,
    "start_time": "2024-12-27T20:59:57.209Z"
   },
   {
    "duration": 2,
    "start_time": "2024-12-27T21:18:21.525Z"
   },
   {
    "duration": 2943,
    "start_time": "2024-12-27T22:49:28.597Z"
   },
   {
    "duration": 471,
    "start_time": "2024-12-27T22:49:31.542Z"
   },
   {
    "duration": 97,
    "start_time": "2024-12-27T22:49:32.015Z"
   },
   {
    "duration": 14,
    "start_time": "2024-12-27T22:49:33.956Z"
   },
   {
    "duration": 187,
    "start_time": "2024-12-27T22:49:35.068Z"
   },
   {
    "duration": 117,
    "start_time": "2024-12-27T22:49:35.720Z"
   },
   {
    "duration": 128,
    "start_time": "2024-12-27T22:49:35.868Z"
   },
   {
    "duration": 22,
    "start_time": "2024-12-27T22:49:36.757Z"
   },
   {
    "duration": 60,
    "start_time": "2024-12-27T22:49:37.488Z"
   },
   {
    "duration": 98,
    "start_time": "2024-12-27T22:49:37.631Z"
   },
   {
    "duration": 240,
    "start_time": "2024-12-27T22:49:38.357Z"
   },
   {
    "duration": 2727,
    "start_time": "2024-12-28T14:37:46.978Z"
   },
   {
    "duration": 440,
    "start_time": "2024-12-28T14:37:49.708Z"
   },
   {
    "duration": 94,
    "start_time": "2024-12-28T14:37:50.150Z"
   },
   {
    "duration": 13,
    "start_time": "2024-12-28T14:37:50.246Z"
   },
   {
    "duration": 190,
    "start_time": "2024-12-28T14:38:13.206Z"
   },
   {
    "duration": 109,
    "start_time": "2024-12-28T14:38:16.350Z"
   },
   {
    "duration": 125,
    "start_time": "2024-12-28T14:38:16.966Z"
   },
   {
    "duration": 21,
    "start_time": "2024-12-28T14:38:30.169Z"
   },
   {
    "duration": 59,
    "start_time": "2024-12-28T14:38:36.394Z"
   },
   {
    "duration": 80,
    "start_time": "2024-12-28T14:38:36.934Z"
   },
   {
    "duration": 189,
    "start_time": "2024-12-28T15:07:06.919Z"
   },
   {
    "duration": 33,
    "start_time": "2024-12-28T15:10:33.549Z"
   },
   {
    "duration": 2747,
    "start_time": "2024-12-29T02:08:11.699Z"
   },
   {
    "duration": 439,
    "start_time": "2024-12-29T02:08:14.448Z"
   },
   {
    "duration": 101,
    "start_time": "2024-12-29T02:08:14.888Z"
   },
   {
    "duration": 13,
    "start_time": "2024-12-29T02:08:14.991Z"
   },
   {
    "duration": 184,
    "start_time": "2024-12-29T02:08:16.319Z"
   },
   {
    "duration": 166,
    "start_time": "2024-12-29T02:08:18.683Z"
   },
   {
    "duration": 127,
    "start_time": "2024-12-29T02:08:19.448Z"
   },
   {
    "duration": 21,
    "start_time": "2024-12-29T02:08:21.998Z"
   },
   {
    "duration": 63,
    "start_time": "2024-12-29T02:08:23.655Z"
   },
   {
    "duration": 81,
    "start_time": "2024-12-29T02:08:24.100Z"
   },
   {
    "duration": 174,
    "start_time": "2024-12-29T02:08:25.769Z"
   },
   {
    "duration": 18,
    "start_time": "2024-12-29T02:11:14.830Z"
   },
   {
    "duration": 234,
    "start_time": "2024-12-29T02:11:58.357Z"
   },
   {
    "duration": 32,
    "start_time": "2024-12-29T02:12:36.401Z"
   },
   {
    "duration": 19,
    "start_time": "2024-12-29T02:12:36.753Z"
   },
   {
    "duration": 7,
    "start_time": "2024-12-29T02:14:01.786Z"
   },
   {
    "duration": 4,
    "start_time": "2024-12-29T02:24:29.050Z"
   },
   {
    "duration": 388,
    "start_time": "2024-12-29T02:24:29.607Z"
   },
   {
    "duration": 91,
    "start_time": "2024-12-29T02:24:30.027Z"
   },
   {
    "duration": 12,
    "start_time": "2024-12-29T02:24:31.084Z"
   },
   {
    "duration": 173,
    "start_time": "2024-12-29T02:24:32.836Z"
   },
   {
    "duration": 113,
    "start_time": "2024-12-29T02:24:34.589Z"
   },
   {
    "duration": 128,
    "start_time": "2024-12-29T02:24:35.044Z"
   },
   {
    "duration": 16,
    "start_time": "2024-12-29T02:24:36.709Z"
   },
   {
    "duration": 58,
    "start_time": "2024-12-29T02:24:38.157Z"
   },
   {
    "duration": 77,
    "start_time": "2024-12-29T02:24:38.556Z"
   },
   {
    "duration": 161,
    "start_time": "2024-12-29T02:24:42.076Z"
   },
   {
    "duration": 18,
    "start_time": "2024-12-29T02:24:42.396Z"
   },
   {
    "duration": 15,
    "start_time": "2024-12-29T02:30:36.016Z"
   },
   {
    "duration": 13,
    "start_time": "2024-12-29T02:37:36.670Z"
   },
   {
    "duration": 19,
    "start_time": "2024-12-29T02:40:52.943Z"
   },
   {
    "duration": 44,
    "start_time": "2024-12-29T02:41:24.344Z"
   },
   {
    "duration": 354,
    "start_time": "2024-12-29T02:41:41.463Z"
   },
   {
    "duration": 18,
    "start_time": "2024-12-29T02:42:52.583Z"
   },
   {
    "duration": 50,
    "start_time": "2024-12-29T02:42:53.271Z"
   },
   {
    "duration": 19,
    "start_time": "2024-12-29T02:57:59.144Z"
   },
   {
    "duration": 20,
    "start_time": "2024-12-29T02:58:19.590Z"
   },
   {
    "duration": 89,
    "start_time": "2024-12-29T02:58:50.250Z"
   },
   {
    "duration": 79,
    "start_time": "2024-12-29T02:59:28.854Z"
   },
   {
    "duration": 2704,
    "start_time": "2024-12-30T14:02:11.020Z"
   },
   {
    "duration": 463,
    "start_time": "2024-12-30T14:02:13.726Z"
   },
   {
    "duration": 95,
    "start_time": "2024-12-30T14:02:14.191Z"
   },
   {
    "duration": 22,
    "start_time": "2024-12-30T14:02:14.288Z"
   },
   {
    "duration": 192,
    "start_time": "2024-12-30T14:02:14.311Z"
   },
   {
    "duration": 176,
    "start_time": "2024-12-30T14:02:14.505Z"
   },
   {
    "duration": 139,
    "start_time": "2024-12-30T14:02:14.683Z"
   },
   {
    "duration": 22,
    "start_time": "2024-12-30T14:02:14.825Z"
   },
   {
    "duration": 70,
    "start_time": "2024-12-30T14:02:14.850Z"
   },
   {
    "duration": 95,
    "start_time": "2024-12-30T14:02:14.922Z"
   },
   {
    "duration": 177,
    "start_time": "2024-12-30T14:02:15.601Z"
   },
   {
    "duration": 20,
    "start_time": "2024-12-30T14:02:15.806Z"
   },
   {
    "duration": 14,
    "start_time": "2024-12-30T14:02:16.370Z"
   },
   {
    "duration": 372,
    "start_time": "2024-12-30T14:02:16.514Z"
   },
   {
    "duration": 74,
    "start_time": "2024-12-30T14:02:17.160Z"
   },
   {
    "duration": 6,
    "start_time": "2024-12-30T14:02:17.403Z"
   },
   {
    "duration": 335,
    "start_time": "2024-12-30T14:11:27.001Z"
   },
   {
    "duration": 356,
    "start_time": "2024-12-31T05:57:25.999Z"
   },
   {
    "duration": 2872,
    "start_time": "2025-01-05T21:04:56.068Z"
   },
   {
    "duration": 453,
    "start_time": "2025-01-05T21:04:58.942Z"
   },
   {
    "duration": 97,
    "start_time": "2025-01-05T21:04:59.397Z"
   },
   {
    "duration": 22,
    "start_time": "2025-01-05T21:04:59.496Z"
   },
   {
    "duration": 196,
    "start_time": "2025-01-05T21:04:59.519Z"
   },
   {
    "duration": 111,
    "start_time": "2025-01-05T21:05:01.036Z"
   },
   {
    "duration": 141,
    "start_time": "2025-01-05T21:05:01.205Z"
   },
   {
    "duration": 22,
    "start_time": "2025-01-05T21:05:01.964Z"
   },
   {
    "duration": 61,
    "start_time": "2025-01-05T21:05:02.568Z"
   },
   {
    "duration": 81,
    "start_time": "2025-01-05T21:05:02.757Z"
   },
   {
    "duration": 182,
    "start_time": "2025-01-05T21:05:03.391Z"
   },
   {
    "duration": 19,
    "start_time": "2025-01-05T21:05:03.575Z"
   },
   {
    "duration": 16,
    "start_time": "2025-01-05T21:05:04.150Z"
   },
   {
    "duration": 377,
    "start_time": "2025-01-05T21:05:04.364Z"
   },
   {
    "duration": 386,
    "start_time": "2025-01-05T21:05:05.054Z"
   },
   {
    "duration": 0,
    "start_time": "2025-01-05T21:05:05.442Z"
   },
   {
    "duration": 54,
    "start_time": "2025-01-05T21:05:21.531Z"
   },
   {
    "duration": 52,
    "start_time": "2025-01-05T21:06:55.548Z"
   },
   {
    "duration": 51,
    "start_time": "2025-01-05T21:09:21.169Z"
   },
   {
    "duration": 59,
    "start_time": "2025-01-05T21:11:33.416Z"
   },
   {
    "duration": 65,
    "start_time": "2025-01-05T21:14:55.604Z"
   },
   {
    "duration": 42,
    "start_time": "2025-01-05T21:23:17.683Z"
   },
   {
    "duration": 28,
    "start_time": "2025-01-05T21:50:50.661Z"
   },
   {
    "duration": 24809,
    "start_time": "2025-01-05T21:58:09.807Z"
   },
   {
    "duration": 23940,
    "start_time": "2025-01-05T22:00:57.486Z"
   },
   {
    "duration": 24068,
    "start_time": "2025-01-05T22:02:17.360Z"
   },
   {
    "duration": 4,
    "start_time": "2025-01-05T22:03:01.071Z"
   },
   {
    "duration": 396,
    "start_time": "2025-01-05T22:03:01.215Z"
   },
   {
    "duration": 98,
    "start_time": "2025-01-05T22:03:01.612Z"
   },
   {
    "duration": 10,
    "start_time": "2025-01-05T22:03:01.712Z"
   },
   {
    "duration": 173,
    "start_time": "2025-01-05T22:03:02.781Z"
   },
   {
    "duration": 111,
    "start_time": "2025-01-05T22:03:03.284Z"
   },
   {
    "duration": 127,
    "start_time": "2025-01-05T22:03:03.483Z"
   },
   {
    "duration": 18,
    "start_time": "2025-01-05T22:03:04.207Z"
   },
   {
    "duration": 63,
    "start_time": "2025-01-05T22:03:04.770Z"
   },
   {
    "duration": 79,
    "start_time": "2025-01-05T22:03:04.970Z"
   },
   {
    "duration": 163,
    "start_time": "2025-01-05T22:03:05.448Z"
   },
   {
    "duration": 17,
    "start_time": "2025-01-05T22:03:05.659Z"
   },
   {
    "duration": 15,
    "start_time": "2025-01-05T22:03:06.201Z"
   },
   {
    "duration": 373,
    "start_time": "2025-01-05T22:03:06.378Z"
   },
   {
    "duration": 65,
    "start_time": "2025-01-05T22:03:06.983Z"
   },
   {
    "duration": 70,
    "start_time": "2025-01-05T22:03:07.183Z"
   },
   {
    "duration": 37,
    "start_time": "2025-01-05T22:03:07.782Z"
   },
   {
    "duration": 24086,
    "start_time": "2025-01-05T22:03:08.363Z"
   },
   {
    "duration": 34,
    "start_time": "2025-01-05T22:03:55.608Z"
   },
   {
    "duration": 24288,
    "start_time": "2025-01-05T22:03:57.187Z"
   },
   {
    "duration": 24531,
    "start_time": "2025-01-05T22:06:25.949Z"
   },
   {
    "duration": 24320,
    "start_time": "2025-01-05T22:07:26.973Z"
   },
   {
    "duration": 24316,
    "start_time": "2025-01-05T22:10:30.977Z"
   },
   {
    "duration": 24360,
    "start_time": "2025-01-05T22:19:17.309Z"
   },
   {
    "duration": 2585,
    "start_time": "2025-01-05T22:22:19.225Z"
   },
   {
    "duration": 92527,
    "start_time": "2025-01-05T22:30:45.526Z"
   },
   {
    "duration": 7,
    "start_time": "2025-01-05T22:35:14.093Z"
   },
   {
    "duration": 10446,
    "start_time": "2025-01-05T22:35:25.564Z"
   },
   {
    "duration": 10361,
    "start_time": "2025-01-05T22:35:49.377Z"
   },
   {
    "duration": 2,
    "start_time": "2025-01-05T22:45:46.243Z"
   },
   {
    "duration": 76,
    "start_time": "2025-01-05T22:47:12.041Z"
   },
   {
    "duration": 37,
    "start_time": "2025-01-05T22:47:23.071Z"
   },
   {
    "duration": 24224,
    "start_time": "2025-01-05T22:47:47.827Z"
   },
   {
    "duration": 13,
    "start_time": "2025-01-05T22:48:12.053Z"
   },
   {
    "duration": 2681,
    "start_time": "2025-01-06T20:51:36.635Z"
   },
   {
    "duration": 464,
    "start_time": "2025-01-06T20:51:41.744Z"
   },
   {
    "duration": 255,
    "start_time": "2025-01-06T20:51:50.338Z"
   },
   {
    "duration": 97,
    "start_time": "2025-01-06T20:51:57.919Z"
   },
   {
    "duration": 16,
    "start_time": "2025-01-06T20:52:03.947Z"
   },
   {
    "duration": 10,
    "start_time": "2025-01-06T20:52:04.679Z"
   },
   {
    "duration": 10,
    "start_time": "2025-01-06T20:52:05.201Z"
   },
   {
    "duration": 10,
    "start_time": "2025-01-06T20:52:06.136Z"
   },
   {
    "duration": 17,
    "start_time": "2025-01-06T20:52:16.013Z"
   },
   {
    "duration": 10,
    "start_time": "2025-01-06T20:52:17.773Z"
   },
   {
    "duration": 17,
    "start_time": "2025-01-06T20:52:24.902Z"
   },
   {
    "duration": 16,
    "start_time": "2025-01-06T20:52:25.560Z"
   },
   {
    "duration": 4,
    "start_time": "2025-01-06T20:52:34.678Z"
   },
   {
    "duration": 419,
    "start_time": "2025-01-06T20:52:34.860Z"
   },
   {
    "duration": 99,
    "start_time": "2025-01-06T20:52:35.281Z"
   },
   {
    "duration": 11,
    "start_time": "2025-01-06T20:52:35.501Z"
   },
   {
    "duration": 184,
    "start_time": "2025-01-06T20:52:36.249Z"
   },
   {
    "duration": 110,
    "start_time": "2025-01-06T20:52:36.765Z"
   },
   {
    "duration": 129,
    "start_time": "2025-01-06T20:52:36.931Z"
   },
   {
    "duration": 23,
    "start_time": "2025-01-06T20:52:37.724Z"
   },
   {
    "duration": 64,
    "start_time": "2025-01-06T20:52:38.322Z"
   },
   {
    "duration": 79,
    "start_time": "2025-01-06T20:52:38.477Z"
   },
   {
    "duration": 172,
    "start_time": "2025-01-06T20:52:39.229Z"
   },
   {
    "duration": 22,
    "start_time": "2025-01-06T20:52:39.419Z"
   },
   {
    "duration": 16,
    "start_time": "2025-01-06T20:52:39.994Z"
   },
   {
    "duration": 386,
    "start_time": "2025-01-06T20:52:40.175Z"
   },
   {
    "duration": 71,
    "start_time": "2025-01-06T20:52:40.792Z"
   },
   {
    "duration": 60,
    "start_time": "2025-01-06T20:52:40.949Z"
   },
   {
    "duration": 200,
    "start_time": "2025-01-06T20:52:42.751Z"
   },
   {
    "duration": 95,
    "start_time": "2025-01-06T20:52:46.558Z"
   },
   {
    "duration": 23801,
    "start_time": "2025-01-06T20:52:56.220Z"
   },
   {
    "duration": 2829,
    "start_time": "2025-01-06T20:53:20.023Z"
   },
   {
    "duration": 38,
    "start_time": "2025-01-06T20:54:12.495Z"
   },
   {
    "duration": 24200,
    "start_time": "2025-01-06T20:54:15.503Z"
   },
   {
    "duration": 2749,
    "start_time": "2025-01-06T20:54:39.706Z"
   },
   {
    "duration": 2689,
    "start_time": "2025-01-06T20:54:42.457Z"
   },
   {
    "duration": 3,
    "start_time": "2025-01-06T21:08:00.434Z"
   },
   {
    "duration": 53,
    "start_time": "2025-01-06T21:09:59.512Z"
   },
   {
    "duration": 143,
    "start_time": "2025-01-06T21:10:25.001Z"
   },
   {
    "duration": 4,
    "start_time": "2025-01-06T21:10:50.051Z"
   },
   {
    "duration": 34,
    "start_time": "2025-01-06T21:10:51.810Z"
   },
   {
    "duration": 7,
    "start_time": "2025-01-06T21:18:29.028Z"
   },
   {
    "duration": 4,
    "start_time": "2025-01-06T21:18:47.930Z"
   },
   {
    "duration": 15,
    "start_time": "2025-01-06T21:19:19.303Z"
   },
   {
    "duration": 23676,
    "start_time": "2025-01-06T21:19:49.387Z"
   },
   {
    "duration": 23791,
    "start_time": "2025-01-06T21:20:19.443Z"
   },
   {
    "duration": 3232,
    "start_time": "2025-01-06T21:33:41.023Z"
   },
   {
    "duration": 10314,
    "start_time": "2025-01-06T21:38:49.994Z"
   },
   {
    "duration": 42,
    "start_time": "2025-01-06T21:41:32.004Z"
   }
  ],
  "kernelspec": {
   "display_name": "Python 3 (ipykernel)",
   "language": "python",
   "name": "python3"
  },
  "language_info": {
   "codemirror_mode": {
    "name": "ipython",
    "version": 3
   },
   "file_extension": ".py",
   "mimetype": "text/x-python",
   "name": "python",
   "nbconvert_exporter": "python",
   "pygments_lexer": "ipython3",
   "version": "3.9.19"
  },
  "toc": {
   "base_numbering": 1,
   "nav_menu": {},
   "number_sections": true,
   "sideBar": true,
   "skip_h1_title": true,
   "title_cell": "Table of Contents",
   "title_sidebar": "Contents",
   "toc_cell": false,
   "toc_position": {},
   "toc_section_display": true,
   "toc_window_display": false
  }
 },
 "nbformat": 4,
 "nbformat_minor": 2
}
